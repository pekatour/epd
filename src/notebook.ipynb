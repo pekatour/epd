{
 "cells": [
  {
   "cell_type": "code",
   "execution_count": null,
   "id": "40b98060",
   "metadata": {},
   "outputs": [],
   "source": [
    "%load_ext autoreload\n",
    "%autoreload"
   ]
  },
  {
   "cell_type": "code",
   "execution_count": null,
   "id": "7c333507",
   "metadata": {},
   "outputs": [],
   "source": [
    "from utilities import *\n",
    "from wls import *"
   ]
  },
  {
   "cell_type": "code",
   "execution_count": null,
   "id": "ced0c39f",
   "metadata": {},
   "outputs": [],
   "source": [
    "IMAGE_PATH = \"../data/image2.png\"\n",
    "\n",
    "image = load_image(IMAGE_PATH, gray=False, verbose=True)\n",
    "n, m = image.shape[:2]\n",
    "u = iteration(image, 2, 1.2)\n",
    "io.imshow(u.reshape(n, m, 1).astype(np.uint8))\n",
    "io.show()\n",
    "\n"
   ]
  },
  {
   "cell_type": "code",
   "execution_count": null,
   "id": "d63d7411",
   "metadata": {},
   "outputs": [],
   "source": [
    "io.imshow(u.reshape(n, m, 1).astype(np.uint8))\n",
    "io.show()"
   ]
  }
 ],
 "metadata": {
  "kernelspec": {
   "display_name": ".venv",
   "language": "python",
   "name": "python3"
  },
  "language_info": {
   "codemirror_mode": {
    "name": "ipython",
    "version": 3
   },
   "file_extension": ".py",
   "mimetype": "text/x-python",
   "name": "python",
   "nbconvert_exporter": "python",
   "pygments_lexer": "ipython3",
   "version": "3.12.3"
  }
 },
 "nbformat": 4,
 "nbformat_minor": 5
}
