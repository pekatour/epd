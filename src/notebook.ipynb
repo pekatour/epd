{
 "cells": [
  {
   "cell_type": "code",
   "execution_count": null,
   "id": "7c333507",
   "metadata": {},
   "outputs": [],
   "source": [
    "from utilities import *\n",
    "from wls import *"
   ]
  },
  {
   "cell_type": "code",
   "execution_count": null,
   "id": "ced0c39f",
   "metadata": {},
   "outputs": [],
   "source": [
    "IMAGE_PATH = \"../data/image2.png\"\n",
    "\n",
    "image = load_image(IMAGE_PATH, gray=False, verbose=True)\n",
    "print(smoothness_matrixes(image, 1.2))"
   ]
  }
 ],
 "metadata": {
  "kernelspec": {
   "display_name": ".venv",
   "language": "python",
   "name": "python3"
  },
  "language_info": {
   "codemirror_mode": {
    "name": "ipython",
    "version": 3
   },
   "file_extension": ".py",
   "mimetype": "text/x-python",
   "name": "python",
   "nbconvert_exporter": "python",
   "pygments_lexer": "ipython3",
   "version": "3.13.3"
  }
 },
 "nbformat": 4,
 "nbformat_minor": 5
}
